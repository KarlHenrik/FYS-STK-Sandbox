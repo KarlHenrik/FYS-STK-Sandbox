{
 "cells": [
  {
   "cell_type": "markdown",
   "id": "232d1306",
   "metadata": {},
   "source": [
    "# Python Setup and Linear Regression\n"
   ]
  },
  {
   "cell_type": "markdown",
   "id": "9b66a351",
   "metadata": {},
   "source": [
    "Welcome to FYS-STK3155/4155!\n",
    "\n",
    "In this first week will focus on getting you set up with the programs you are going to be using throughout this course. We expect that many of you will encounter some trouble with setting these programs up, as they can be quite finnicky, so we strongly encourage you to not get discouraged, and to show up to the group-sessions where we can help you along as best we can. The group sessions are also the best place to find group partners for the projects and to be challenged on your understanding of the material, which are both essential to doing well on this course.\n",
    "\n",
    "If you are unable to complete this weeks exercises, don't worry. You have time to get back on track next week, especially if you come to the group-sessions!\n"
   ]
  },
  {
   "cell_type": "markdown",
   "id": "36d8750b",
   "metadata": {},
   "source": [
    "## Learning goals\n",
    "\n",
    "After completing these exercises, you will know how to\n",
    "\n",
    "- Set up a virtual environment in Python\n",
    "- Create a Github repository\n",
    "- Fit an OLS model to data using scikit-learn\n",
    "- Fit a model on training data and evaluate it on test data\n"
   ]
  },
  {
   "cell_type": "markdown",
   "id": "2a9c7ef8",
   "metadata": {},
   "source": [
    "## Exercise 2 - Github repository\n"
   ]
  },
  {
   "cell_type": "markdown",
   "id": "1498aed1",
   "metadata": {},
   "source": [
    "Following the theme of the previous exercise, another way of improving the reproducibility of your results and shareability of your code is to use a version control system like git and online repository like Github.\n",
    "\n",
    "**a)** Create a Github account(https://github.com/), or log in to github with your UiO account (https://github.uio.no/login).\n",
    "\n",
    "**b)** Create an empty repository for your coursework in this course.\n",
    "\n",
    "**c)** Clone the repository to your laptop at a suitable location. It should now be a folder somewhere, don't move it or rename it.\n",
    "\n",
    "**d)** Download this jupyter notebook. Add the notebook to the folder.\n",
    "\n",
    "**e)** Run the ´git add .´ command command to stage the current changes to the folder to be commited to the version control history.\n",
    "\n",
    "**f)** Run the ´git commit -m \"Adding first weekly assignment file\"´ command to commit the staged changes to the version control history.\n",
    "\n",
    "**g)** _Warning: This one might take some extra time and effort. In order to update the files in the remote repository to match your local files, you need authentication to do so. We recommend authenticating using a personal access token key as your password when accessing github from the terminal._\n",
    "\n",
    "Create a personal access token at test. Follow the steps here: https://docs.github.com/en/authentication/connecting-to-github-with-ssh/about-ssh\n",
    "\n",
    "**h)** Run the ´git push\" command to upload the commited changes to the remote repository on Github.\n",
    "\n",
    "**i)** Add a file called README.txt to the repository at Github.com. Don't do this in your local folder.\n",
    "\n",
    "**j)** Run the ´git fetch origin´ command to fetch the latest remote changes to your repository.\n",
    "\n",
    "**k)** Run the ´git pull´ command to download and update files to match the remote changes.\n"
   ]
  },
  {
   "cell_type": "markdown",
   "id": "f84d0db6",
   "metadata": {},
   "source": [
    "## Exercise 1 - Python virtual environment\n"
   ]
  },
  {
   "cell_type": "markdown",
   "id": "b5a4818a",
   "metadata": {},
   "source": [
    "In this course, we require you to pay extra mind to the reproducibility of your results and the shareability of your code. The first step toward these goals is having a good handle on which python packages you are using.\n",
    "\n",
    "There are many ways to manage your packages in Python, and you are free to use any approach you want, but in this course we encourage you to use something called a virtual environment. A virtual environemnt is a folder in your project which contains a Python runtime executable as well as all the packages you are using in the current project. In this way, each of your projects has its required set of packages installed in the same folder, so that if anything goes wrong while managing your packages it only affects the one project, and if multiple projects require different versions of the same package, you don't need to worry about messing up old projects.\n"
   ]
  },
  {
   "cell_type": "markdown",
   "id": "0f6de364",
   "metadata": {},
   "source": [
    "**a)**\n",
    "\n",
    "**b)** Set up a virtual environment\n",
    "\n",
    "Option 1: Setting up a virtual environment in VS Code\n",
    "\n",
    "Option 2: (Not recommended) Setting up a virtual environment in the terminal\n"
   ]
  },
  {
   "cell_type": "markdown",
   "id": "5d184ab1",
   "metadata": {},
   "source": [
    "## Exercise 3 - Fitting an OLS model to data\n"
   ]
  },
  {
   "cell_type": "markdown",
   "id": "d19ebd67",
   "metadata": {},
   "source": []
  },
  {
   "cell_type": "markdown",
   "id": "248d8931",
   "metadata": {},
   "source": [
    "## Exercise 4 - The train-test split\n"
   ]
  },
  {
   "cell_type": "markdown",
   "id": "0f8d75fb",
   "metadata": {},
   "source": []
  }
 ],
 "metadata": {
  "kernelspec": {
   "display_name": ".venv",
   "language": "python",
   "name": "python3"
  },
  "language_info": {
   "name": "python",
   "version": "3.13.0"
  }
 },
 "nbformat": 4,
 "nbformat_minor": 5
}
