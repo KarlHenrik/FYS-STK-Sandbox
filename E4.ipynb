{
 "cells": [
  {
   "cell_type": "markdown",
   "id": "1da77599",
   "metadata": {},
   "source": [
    "# Optimization and Gradient Methods"
   ]
  },
  {
   "cell_type": "markdown",
   "id": "13fcea35",
   "metadata": {},
   "source": []
  }
 ],
 "metadata": {
  "language_info": {
   "name": "python"
  }
 },
 "nbformat": 4,
 "nbformat_minor": 5
}
