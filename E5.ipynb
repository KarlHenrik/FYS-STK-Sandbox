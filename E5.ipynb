{
 "cells": [
  {
   "cell_type": "markdown",
   "id": "433db993",
   "metadata": {},
   "source": [
    "# Logistic Regression and Optimization"
   ]
  },
  {
   "cell_type": "markdown",
   "id": "74b3cd1c",
   "metadata": {},
   "source": []
  }
 ],
 "metadata": {
  "language_info": {
   "name": "python"
  }
 },
 "nbformat": 4,
 "nbformat_minor": 5
}
