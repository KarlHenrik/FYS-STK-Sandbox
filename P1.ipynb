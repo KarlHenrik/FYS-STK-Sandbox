{
 "cells": [
  {
   "cell_type": "markdown",
   "metadata": {},
   "source": [
    "# Project 1\n"
   ]
  },
  {
   "cell_type": "markdown",
   "metadata": {},
   "source": [
    "## Abstract\n",
    "\n",
    "Which model performed\n"
   ]
  },
  {
   "cell_type": "markdown",
   "metadata": {},
   "source": [
    "## Introduction\n"
   ]
  },
  {
   "cell_type": "markdown",
   "metadata": {},
   "source": [
    "## Method\n",
    "\n",
    "### Models\n",
    "\n",
    "- OLS\n",
    "- Ridge\n",
    "- Lasso\n",
    "\n",
    "### Gradient Descent\n",
    "\n",
    "- Gradient Descent\n",
    "\n",
    "### Resampling\n",
    "\n",
    "- Bias of models\n",
    "- Variance of models\n",
    "- Bias-Variance Tradeoff\n",
    "- Bootstrap\n",
    "- Cross-validation\n",
    "\n",
    "### Data\n",
    "\n",
    "- Where is the data from, what is it?\n",
    "- Plot the data\n",
    "\n",
    "### Use of AI\n",
    "\n",
    "- Describe how you used AI tools for your work. This\n"
   ]
  },
  {
   "cell_type": "markdown",
   "metadata": {},
   "source": [
    "## Results and Discussion\n",
    "\n",
    "### Understandig the data\n",
    "\n",
    "-\n",
    "- Only use OLS here\n",
    "-\n",
    "\n",
    "Heatmap:\n",
    "\n",
    "- MSE as color\n",
    "- Polynomial degree as x-axis\n",
    "- lambda as y-axis\n",
    "  select best Ridge and Lasso models with this\n",
    "\n",
    "MSE vs polynomial degrees 1-5 for\n",
    "\n",
    "- Ridge for lambda\n",
    "- Lasso\n"
   ]
  },
  {
   "cell_type": "markdown",
   "metadata": {},
   "source": [
    "## Conclusion\n"
   ]
  },
  {
   "cell_type": "code",
   "execution_count": null,
   "metadata": {},
   "outputs": [],
   "source": []
  }
 ],
 "metadata": {
  "kernelspec": {
   "display_name": ".venv",
   "language": "python",
   "name": "python3"
  },
  "language_info": {
   "codemirror_mode": {
    "name": "ipython",
    "version": 3
   },
   "file_extension": ".py",
   "mimetype": "text/x-python",
   "name": "python",
   "nbconvert_exporter": "python",
   "pygments_lexer": "ipython3",
   "version": "3.13.0"
  }
 },
 "nbformat": 4,
 "nbformat_minor": 2
}
