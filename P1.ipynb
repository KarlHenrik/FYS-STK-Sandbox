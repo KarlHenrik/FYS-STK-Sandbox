{
 "cells": [
  {
   "cell_type": "markdown",
   "metadata": {},
   "source": [
    "# Project 1\n"
   ]
  },
  {
   "cell_type": "markdown",
   "metadata": {},
   "source": [
    "## Abstract\n",
    "\n",
    "Which model performed\n"
   ]
  },
  {
   "cell_type": "markdown",
   "metadata": {},
   "source": [
    "## Introduction\n"
   ]
  },
  {
   "cell_type": "markdown",
   "metadata": {},
   "source": [
    "## Method\n",
    "\n",
    "### Models\n",
    "\n",
    "- OLS\n",
    "- Ridge\n",
    "- Lasso\n",
    "\n",
    "### Gradient Descent\n",
    "\n",
    "- Gradient Descent\n",
    "\n",
    "### Resampling\n",
    "\n",
    "- Bias of models\n",
    "- Variance of models\n",
    "- Bias-Variance Tradeoff\n",
    "- Bootstrap\n",
    "- Cross-validation\n",
    "\n",
    "### Data\n",
    "\n",
    "- Where is the data from, what is it?\n",
    "- Plot the data\n",
    "\n",
    "### Use of AI\n",
    "\n",
    "- Describe how you used AI tools for your work\n",
    "- In scientific publications, this is not universal practice, but we require it to help you reflect on how you use it."
   ]
  },
  {
   "cell_type": "markdown",
   "metadata": {},
   "source": [
    "## Results and Discussion\n",
    "\n",
    "### Understandig the data - OLS\n",
    "- CV OLS MSE as function of polydegree, train and test\n",
    "- CV OLS R2 as function of polydegree, train and test\n",
    "- Bias-Variance trade-off for OLS over polydegrees\n",
    "\n",
    "### Gradient Descent - Lasso\n",
    "Before you can compare methods, you need to find the right parameters for lasso regression. Choose best polynomial degree for tuning lasso given previous section.\n",
    "- Plot gradient as function of B_1 and B_2\n",
    "    - Scale data to lock B_0 to 0\n",
    "- Heatmap: MSE as function of learning rate and lambda\n",
    "\n",
    "Choose best learning rate\n",
    "- Plot MSE as function of iterations\n",
    "\n",
    "# Comparing methods\n",
    "- Heatmap: CV Lasso MSE as function of lambda and polydegree\n",
    "- Heatmap: CV Ridge MSE as function of lambda and polydegree\n",
    "- Discuss strenghts and weaknesses of the three models\n",
    "- Plot predicted terrain next to true terrain."
   ]
  },
  {
   "cell_type": "markdown",
   "metadata": {},
   "source": [
    "## Conclusion\n"
   ]
  },
  {
   "cell_type": "code",
   "execution_count": null,
   "metadata": {},
   "outputs": [],
   "source": []
  }
 ],
 "metadata": {
  "kernelspec": {
   "display_name": ".venv",
   "language": "python",
   "name": "python3"
  },
  "language_info": {
   "codemirror_mode": {
    "name": "ipython",
    "version": 3
   },
   "file_extension": ".py",
   "mimetype": "text/x-python",
   "name": "python",
   "nbconvert_exporter": "python",
   "pygments_lexer": "ipython3",
   "version": "3.13.0"
  }
 },
 "nbformat": 4,
 "nbformat_minor": 2
}
