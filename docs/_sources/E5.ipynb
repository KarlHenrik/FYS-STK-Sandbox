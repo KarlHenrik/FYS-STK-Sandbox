{
 "cells": [
  {
   "cell_type": "markdown",
   "id": "433db993",
   "metadata": {},
   "source": [
    "# Weekly Exercises 5\n",
    "\n",
    "## Gradient Descent"
   ]
  },
  {
   "cell_type": "markdown",
   "id": "4eb9c9d7",
   "metadata": {},
   "source": [
    "## Learning goals\n",
    "\n",
    "After completing these exercises, you will know how to\n",
    "- Compute gradients for the parameters of the OLS, Ridge and Lasso methods\n",
    "- Optimize parameters using Gradient Descent\n",
    "- Improve the performance of Gradient Descent with Stochastic Graident Descent and by adding momentum"
   ]
  },
  {
   "cell_type": "markdown",
   "id": "8a9f33a4",
   "metadata": {},
   "source": [
    "## Exercise 1: Computing Gradients"
   ]
  },
  {
   "cell_type": "markdown",
   "id": "44fbfe0a",
   "metadata": {},
   "source": []
  },
  {
   "cell_type": "markdown",
   "id": "d20aea44",
   "metadata": {
    "vscode": {
     "languageId": "plaintext"
    }
   },
   "source": [
    "## Exercise 2: Gradient Descent on OLS"
   ]
  },
  {
   "cell_type": "markdown",
   "id": "341593df",
   "metadata": {},
   "source": []
  },
  {
   "cell_type": "markdown",
   "id": "d14e98f2",
   "metadata": {},
   "source": [
    "## Exercise 3: Stochastic Gradient Descent with Momentum"
   ]
  },
  {
   "cell_type": "markdown",
   "id": "118aac95",
   "metadata": {},
   "source": [
    "## Exercise 4: Implementing Lasso"
   ]
  },
  {
   "cell_type": "markdown",
   "id": "1419cb45",
   "metadata": {},
   "source": []
  }
 ],
 "metadata": {
  "language_info": {
   "name": "python"
  }
 },
 "nbformat": 4,
 "nbformat_minor": 5
}
