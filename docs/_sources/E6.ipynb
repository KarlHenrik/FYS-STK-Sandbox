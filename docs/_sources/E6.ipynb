{
 "cells": [
  {
   "cell_type": "markdown",
   "id": "433db993",
   "metadata": {},
   "source": [
    "# Weekly Exercises 6\n",
    "\n",
    "## Getting started with project 1"
   ]
  },
  {
   "cell_type": "markdown",
   "id": "6b931365",
   "metadata": {},
   "source": [
    "The aim of the exercises this week is to aid you in getting started with writing the report. This will be discussed during the lab sessions as well. \n",
    "\n",
    "A general guideline can be found at <https://github.com/CompPhysics/MachineLearning/blob/master/doc/Projects/EvaluationGrading/EvaluationForm.md>.\n",
    "\n",
    "Similarly, an example of an earlier project can be found at <https://github.com/CompPhysics/MachineLearning/blob/master/doc/Projects/ReportExample/ReportSample.pdf>\n",
    "\n",
    "A short feedback to the this exercise will be available before the project deadline. And you can reuse these elements in your final report."
   ]
  },
  {
   "cell_type": "markdown",
   "id": "2a63bae1",
   "metadata": {},
   "source": [
    "## Learning goals\n",
    "\n",
    "After completing these exercises, you will know how to\n",
    "- Create a properly formatted report in Overleaf\n",
    "- Select and present graphs for a scientific report\n",
    "- Write an abstract and introduction for a scientific report"
   ]
  },
  {
   "cell_type": "markdown",
   "id": "e0f2d99d",
   "metadata": {},
   "source": [
    "## Exercise 1: Creating the report document"
   ]
  },
  {
   "cell_type": "markdown",
   "id": "d06bfb29",
   "metadata": {},
   "source": [
    "We require all projects to be formatted as proper scientific reports, and this includes using LaTeX for typesetting. We strongly recommend that you use the online LaTeX editor Overleaf, as it is much easier to start using, and has excellent support for collaboration.\n",
    "\n",
    "**a)** Create an account on Overleaf.com\n",
    "\n",
    "**b)** Download [this]() template project.\n",
    "\n",
    "**b)** Create a new Overleaf project with the correct formatting by uploading the template project."
   ]
  },
  {
   "cell_type": "markdown",
   "id": "ec36f4c3",
   "metadata": {},
   "source": [
    "## Exercise 2: Adding good figures"
   ]
  },
  {
   "cell_type": "markdown",
   "id": "f50723f8",
   "metadata": {},
   "source": [
    "**a)** Using what you have learned so far in this course, create a plot illustrating the Bias-Variance trade-off. Make sure the lines and axes are labeled.\n",
    "\n",
    "**b)** Add this figure to the results section of your document, with a caption that describes it. A reader should be able to understand the figure with only its contents and caption.\n",
    "\n",
    "**c)** Refer to the figure in your text using \\ref.\n",
    "\n",
    "**d)** Create a heatmap showing the MSE of a Ridge regression model for various polynomial degrees and lambda values. Make sure the axes are labeled, and that the title or colorbar described what is plotted.\n",
    "\n",
    "**e)** Add this second figure to your document with a caption and reference in the text. All figures in the final report must be captioned and be referenced and used in the text."
   ]
  },
  {
   "cell_type": "markdown",
   "id": "276c214e",
   "metadata": {},
   "source": [
    "## Exercise 3: Writing an abstract and introduction"
   ]
  },
  {
   "cell_type": "markdown",
   "id": "f4134eb5",
   "metadata": {},
   "source": [
    "Although much of your project 1 results are not done yet, we want you to write an abstract and introduction to get you started on writing the report. It is generally a good idea to write a lot of a report before finishing all of the results, as you get a better understanding of your methods and inquiry from doing so, along with saving a lot of time. Where you would typically describe results in the abstract, instead make something up, just this once.\n",
    "\n",
    "**a)** Write an abstract for project 1 in your report.\n",
    "\n",
    "**b)** Write an introduction for project 1 in your report."
   ]
  },
  {
   "cell_type": "markdown",
   "id": "2f512b59",
   "metadata": {},
   "source": [
    "## Exercise 4: Making the code avaliable and presentable"
   ]
  },
  {
   "cell_type": "markdown",
   "id": "77fe1fec",
   "metadata": {},
   "source": [
    "A central part of the report is the code you write to implement the methods and generate the results. To get points for the code-part of the project, you need to make your code avaliable and presentable.\n",
    "\n",
    "**a)** Create a github repository for project 1, or create a dedicated folder for project 1 in a github repository. Only one person in your group needs to do this.\n",
    "\n",
    "**b)** Add a PDF of the report to this repository, after completing exercises 1-3 \n",
    "\n",
    "**c)** Add a folder named Code, where you can put python files for your functions and notebooks for reproducing your results.\n",
    "\n",
    "**d)** Add python files for functions, and a notebook to produce the figures in exercise 2, to the Code folder. Remember to use a seed for generating random data and for train-test splits.\n",
    "\n",
    "**e)** Create a READEME.md file in the reposotory or project folder with\n",
    "- the name of the group members\n",
    "- a short description of the project\n",
    "- a description of how to install the required packages to run your code from a requirements.txt file\n",
    "- names and descriptions of the various notebooks in the Code folder and the results they produce"
   ]
  }
 ],
 "metadata": {
  "language_info": {
   "name": "python"
  }
 },
 "nbformat": 4,
 "nbformat_minor": 5
}
